{
 "cells": [
  {
   "cell_type": "code",
   "execution_count": 1,
   "id": "a9a40d85",
   "metadata": {},
   "outputs": [],
   "source": [
    "#!/usr/bin/env python\n",
    "\"\"\"\n",
    " @file   baseline.py\n",
    " @brief  Baseline code of simple AE-based anomaly detection used experiment in [1].\n",
    " @author Ryo Tanabe and Yohei Kawaguchi (Hitachi Ltd.)\n",
    " Copyright (C) 2019 Hitachi, Ltd. All right reserved.\n",
    " [1] Harsh Purohit, Ryo Tanabe, Kenji Ichige, Takashi Endo, Yuki Nikaido, Kaori Suefusa, and Yohei Kawaguchi, \"MIMII Dataset: Sound Dataset for Malfunctioning Industrial Machine Investigation and Inspection,\" arXiv preprint arXiv:1909.09347, 2019.\n",
    "\"\"\"\n",
    "########################################################################\n",
    "# import default python-library\n",
    "########################################################################\n",
    "import os\n",
    "import sys\n",
    "import glob\n",
    "########################################################################\n",
    "\n",
    "\n",
    "########################################################################\n",
    "# import additional python-library\n",
    "########################################################################\n",
    "import numpy\n",
    "import librosa\n",
    "import librosa.core\n",
    "import librosa.feature\n",
    "import yaml\n",
    "# from import\n",
    "from tqdm import tqdm\n",
    "from sklearn import metrics\n",
    "\n",
    "import torch\n",
    "import torch.nn as nn\n",
    "\n",
    "from pytorch_grad_cam import GradCAM\n",
    "from pytorch_grad_cam.utils.image import show_cam_on_image\n",
    "\n",
    "from utils import *\n",
    "from model import TorchConvModel\n",
    "########################################################################\n",
    "\n",
    "\n",
    "########################################################################\n",
    "# version\n",
    "########################################################################\n",
    "__versions__ = \"1.0.3\"\n",
    "########################################################################\n",
    "\n",
    "\n",
    "\n",
    "########################################################################\n",
    "# feature extractor\n",
    "########################################################################\n",
    "\n",
    "def list_to_spec_vector_2d_array(file_list,\n",
    "                         msg=\"calc...\",\n",
    "                         n_mels=64,\n",
    "                         frames=5,\n",
    "                         n_fft=1024,\n",
    "                         hop_length=512,\n",
    "                         power=2.0):\n",
    "    \"\"\"\n",
    "    convert the file_list to a vector array.\n",
    "    file_to_vector_array() is iterated, and the output vector array is concatenated.\n",
    "    file_list : list [ str ]\n",
    "        .wav filename list of dataset\n",
    "    msg : str ( default = \"calc...\" )\n",
    "        description for tqdm.\n",
    "        this parameter will be input into \"desc\" param at tqdm.\n",
    "    return : numpy.array( numpy.array( float ) )\n",
    "        training dataset (when generate the validation data, this function is not used.)\n",
    "        * dataset.shape = (total_dataset_size, feature_vector_length)\n",
    "    \"\"\"\n",
    "\n",
    "    # 02 loop of file_to_vectorarray\n",
    "    for idx in tqdm(range(len(file_list)), desc=msg):\n",
    "\n",
    "        vector_array = file_to_spec_vector_2d_array(file_list[idx],\n",
    "                                            n_mels=n_mels,\n",
    "                                            frames=frames,\n",
    "                                            n_fft=n_fft,\n",
    "                                            hop_length=hop_length,\n",
    "                                            power=power)\n",
    "\n",
    "        if idx == 0:\n",
    "            dataset = numpy.zeros((vector_array.shape[0] * len(file_list), frames, n_mels), float)\n",
    "\n",
    "        dataset[vector_array.shape[0] * idx: vector_array.shape[0] * (idx + 1), :, :] = vector_array\n",
    "\n",
    "    return dataset\n",
    "\n",
    "\n",
    "class AEDataset(torch.utils.data.Dataset):\n",
    "    def __init__(self, \n",
    "            file_list,\n",
    "            param,\n",
    "            target_source=None,\n",
    "            ):\n",
    "        self.file_list = file_list\n",
    "        self.target_source = target_source\n",
    "\n",
    "        self.data_vector = list_to_spec_vector_2d_array(self.file_list,\n",
    "                                            msg=\"generate train_dataset\",\n",
    "                                            n_mels=param[\"feature\"][\"n_mels\"],\n",
    "                                            frames=param[\"feature\"][\"frames\"],\n",
    "                                            n_fft=param[\"feature\"][\"n_fft\"],\n",
    "                                            hop_length=param[\"feature\"][\"hop_length\"],\n",
    "                                            power=param[\"feature\"][\"power\"],\n",
    "                                            )\n",
    "        \n",
    "    \n",
    "    def __getitem__(self, index):\n",
    "        return torch.Tensor(self.data_vector[index, :, :])\n",
    "    \n",
    "    def __len__(self):\n",
    "        return self.data_vector.shape[0]\n",
    "\n",
    "\n",
    "def dataset_generator(target_dir,\n",
    "                      normal_dir_name=\"normal\",\n",
    "                      abnormal_dir_name=\"abnormal\",\n",
    "                      ext=\"wav\"):\n",
    "    \"\"\"\n",
    "    target_dir : str\n",
    "        base directory path of the dataset\n",
    "    normal_dir_name : str (default=\"normal\")\n",
    "        directory name the normal data located in\n",
    "    abnormal_dir_name : str (default=\"abnormal\")\n",
    "        directory name the abnormal data located in\n",
    "    ext : str (default=\"wav\")\n",
    "        filename extension of audio files \n",
    "    return : \n",
    "        train_data : numpy.array( numpy.array( float ) )\n",
    "            training dataset\n",
    "            * dataset.shape = (total_dataset_size, feature_vector_length)\n",
    "        train_files : list [ str ]\n",
    "            file list for training\n",
    "        train_labels : list [ boolean ] \n",
    "            label info. list for training\n",
    "            * normal/abnormal = 0/1\n",
    "        eval_files : list [ str ]\n",
    "            file list for evaluation\n",
    "        eval_labels : list [ boolean ] \n",
    "            label info. list for evaluation\n",
    "            * normal/abnormal = 0/1\n",
    "    \"\"\"\n",
    "    logger.info(\"target_dir : {}\".format(target_dir))\n",
    "\n",
    "    # 01 normal list generate\n",
    "    normal_files = sorted(glob.glob(\n",
    "        os.path.abspath(\"{dir}/{normal_dir_name}/*.{ext}\".format(dir=target_dir,\n",
    "                                                                 normal_dir_name=normal_dir_name,\n",
    "                                                                 ext=ext))))\n",
    "    normal_labels = numpy.zeros(len(normal_files))\n",
    "    if len(normal_files) == 0:\n",
    "        logger.exception(\"no_wav_data!!\")\n",
    "\n",
    "    # 02 abnormal list generate\n",
    "    abnormal_files = sorted(glob.glob(\n",
    "        os.path.abspath(\"{dir}/{abnormal_dir_name}/*.{ext}\".format(dir=target_dir,\n",
    "                                                                   abnormal_dir_name=abnormal_dir_name,\n",
    "                                                                   ext=ext))))                              \n",
    "    abnormal_labels = numpy.ones(len(abnormal_files))\n",
    "    if len(abnormal_files) == 0:\n",
    "        logger.exception(\"no_wav_data!!\")\n",
    "\n",
    "    # 03 separate train & eval\n",
    "    train_files = normal_files[len(abnormal_files):]\n",
    "    train_labels = normal_labels[len(abnormal_files):]\n",
    "    eval_files = numpy.concatenate((normal_files[:len(abnormal_files)], abnormal_files), axis=0)\n",
    "    eval_labels = numpy.concatenate((normal_labels[:len(abnormal_files)], abnormal_labels), axis=0)\n",
    "    logger.info(\"train_file num : {num}\".format(num=len(train_files)))\n",
    "    logger.info(\"eval_file  num : {num}\".format(num=len(eval_files)))\n",
    "\n",
    "    return train_files, train_labels, eval_files, eval_labels\n",
    "\n",
    "\n",
    "########################################################################\n",
    "\n",
    "class ReconOutputTarget:\n",
    "    def __init__(self, model_input):\n",
    "        self.model_input = model_input\n",
    "        self.error_func = nn.MSELoss(reduction='mean')\n",
    "    def __call__(self, model_output):\n",
    "        assert self.model_input.shape == model_output.shape\n",
    "        error = self.error_func(self.model_input, model_output)\n",
    "        return error\n",
    "\n",
    "\n",
    "########################################################################\n",
    "# main\n",
    "########################################################################\n",
    "\n",
    "########################################################################"
   ]
  },
  {
   "cell_type": "code",
   "execution_count": 11,
   "id": "2ab28838",
   "metadata": {},
   "outputs": [
    {
     "name": "stderr",
     "output_type": "stream",
     "text": [
      "2022-07-05 05:25:03,349 - INFO - load_pickle <- ./pickle/bgc_train_valve_id_00_6dB.pickle\n",
      "2022-07-05 05:25:03,351 - INFO - load_pickle <- ./pickle/bgc_eval_files_valve_id_00_6dB.pickle\n",
      "2022-07-05 05:25:03,352 - INFO - load_pickle <- ./pickle/ebgc_val_labels_valve_id_00_6dB.pickle\n"
     ]
    },
    {
     "name": "stdout",
     "output_type": "stream",
     "text": [
      "\n",
      "===========================\n",
      "[1/1] /dev/shm/mimii/6dB/valve/id_00\n",
      "============== DATASET_GENERATOR ==============\n"
     ]
    },
    {
     "name": "stderr",
     "output_type": "stream",
     "text": [
      "generate train_dataset: 100%|████████████████████████████████████████████████████| 872/872 [00:07<00:00, 113.23it/s]\n"
     ]
    },
    {
     "name": "stdout",
     "output_type": "stream",
     "text": [
      "============== MODEL TRAINING ==============\n",
      "========= MODEL LOADED =======\n"
     ]
    }
   ],
   "source": [
    "\n",
    "# load parameter yaml\n",
    "with open(\"baseline.yaml\") as stream:\n",
    "    param = yaml.safe_load(stream)\n",
    "\n",
    "param[\"features\"][\"frames\"] = 21\n",
    "\n",
    "\n",
    "# make output directory\n",
    "os.makedirs(param[\"pickle_directory\"], exist_ok=True)\n",
    "os.makedirs(param[\"model_directory\"], exist_ok=True)\n",
    "os.makedirs(param[\"result_directory\"], exist_ok=True)\n",
    "\n",
    "# setup the result\n",
    "result_file = \"{result}/{file_name}\".format(result=param[\"result_directory\"], file_name=param[\"result_file\"])\n",
    "results = {}\n",
    "\n",
    "target_dir = \"{base}/6dB/valve/id_00\".format(base=param[\"base_directory\"])\n",
    "print(\"\\n===========================\")\n",
    "print(\"[{num}/{total}] {dirname}\".format(dirname=target_dir, num=1, total=1))\n",
    "\n",
    "# dataset param        \n",
    "db = os.path.split(os.path.split(os.path.split(target_dir)[0])[0])[1]\n",
    "machine_type = os.path.split(os.path.split(target_dir)[0])[1]\n",
    "machine_id = os.path.split(target_dir)[1]\n",
    "\n",
    "# setup path\n",
    "evaluation_result = {}\n",
    "train_pickle = \"{pickle}/bgc_train_{machine_type}_{machine_id}_{db}.pickle\".format(pickle=param[\"pickle_directory\"],\n",
    "                                                                               machine_type=machine_type,\n",
    "                                                                               machine_id=machine_id, db=db)\n",
    "eval_files_pickle = \"{pickle}/bgc_eval_files_{machine_type}_{machine_id}_{db}.pickle\".format(\n",
    "                                                                               pickle=param[\"pickle_directory\"],\n",
    "                                                                               machine_type=machine_type,\n",
    "                                                                               machine_id=machine_id,\n",
    "                                                                               db=db)\n",
    "eval_labels_pickle = \"{pickle}/ebgc_val_labels_{machine_type}_{machine_id}_{db}.pickle\".format(\n",
    "                                                                               pickle=param[\"pickle_directory\"],\n",
    "                                                                               machine_type=machine_type,\n",
    "                                                                               machine_id=machine_id,\n",
    "                                                                               db=db)\n",
    "model_file = \"{model}/bgc_model_{machine_type}_{machine_id}_{db}.hdf5\".format(model=param[\"model_directory\"],\n",
    "                                                                          machine_type=machine_type,\n",
    "                                                                          machine_id=machine_id,\n",
    "                                                                          db=db)\n",
    "history_img = \"{model}/bgc_history_{machine_type}_{machine_id}_{db}.png\".format(model=param[\"model_directory\"],\n",
    "                                                                            machine_type=machine_type,\n",
    "                                                                            machine_id=machine_id,\n",
    "                                                                            db=db)\n",
    "evaluation_result_key = \"bgc_{machine_type}_{machine_id}_{db}\".format(machine_type=machine_type,\n",
    "                                                                  machine_id=machine_id,\n",
    "                                                                  db=db)\n",
    "\n",
    "# dataset generator\n",
    "print(\"============== DATASET_GENERATOR ==============\")\n",
    "if os.path.exists(train_pickle) and os.path.exists(eval_files_pickle) and os.path.exists(eval_labels_pickle):\n",
    "    train_files = load_pickle(train_pickle)\n",
    "    eval_files = load_pickle(eval_files_pickle)\n",
    "    eval_labels = load_pickle(eval_labels_pickle)\n",
    "else:\n",
    "    train_files, train_labels, eval_files, eval_labels = dataset_generator(target_dir)\n",
    "\n",
    "    save_pickle(train_pickle, train_files)\n",
    "    save_pickle(eval_files_pickle, eval_files)\n",
    "    save_pickle(eval_labels_pickle, eval_labels)\n",
    "\n",
    "train_dataset = AEDataset(train_files, param)\n",
    "train_loader = torch.utils.data.DataLoader(\n",
    "    train_dataset, batch_size=param[\"fit\"][\"batch_size\"], shuffle=True,\n",
    ")\n",
    "\n",
    "# model training\n",
    "print(\"============== MODEL TRAINING ==============\")\n",
    "dim_input = train_dataset.data_vector.shape[1]\n",
    "model = TorchConvModel().cuda()\n",
    "if os.path.exists(model_file):\n",
    "    model.load_state_dict(torch.load(model_file, map_location='cuda:0'))\n",
    "    print(\"========= MODEL LOADED =======\")\n",
    "else:\n",
    "    optimizer = torch.optim.Adam(model.parameters(), lr=1.0e-3)\n",
    "    loss_fn = nn.MSELoss()\n",
    "\n",
    "    for epoch in range(param[\"fit\"][\"epochs\"]):\n",
    "        losses = []\n",
    "        for batch in train_loader:\n",
    "            batch = batch.cuda()\n",
    "            pred = model(batch)\n",
    "            loss = loss_fn(pred, batch)\n",
    "\n",
    "            optimizer.zero_grad()\n",
    "            loss.backward()\n",
    "            optimizer.step()\n",
    "            losses.append(loss.item())\n",
    "        if epoch % 10 == 0:\n",
    "            print(f\"epoch {epoch}: loss {sum(losses) / len(losses)}\")\n",
    "    model.eval()\n",
    "    torch.save(model.state_dict(), model_file)\n"
   ]
  },
  {
   "cell_type": "code",
   "execution_count": 3,
   "id": "6bf40a9f",
   "metadata": {},
   "outputs": [
    {
     "name": "stdout",
     "output_type": "stream",
     "text": [
      "============== EVALUATION ==============\n"
     ]
    }
   ],
   "source": [
    "\n",
    "# evaluation\n",
    "print(\"============== EVALUATION ==============\")\n",
    "y_pred = [0. for k in eval_labels]\n",
    "y_true = eval_labels\n"
   ]
  },
  {
   "cell_type": "code",
   "execution_count": 4,
   "id": "79e126d4",
   "metadata": {},
   "outputs": [
    {
     "name": "stdout",
     "output_type": "stream",
     "text": [
      "(1, 21, 64)\n"
     ]
    },
    {
     "data": {
      "text/plain": [
       "<matplotlib.image.AxesImage at 0x7f0ff82c2450>"
      ]
     },
     "execution_count": 4,
     "metadata": {},
     "output_type": "execute_result"
    },
    {
     "data": {
      "image/png": "[encoded data removed]",
      "text/plain": [
       "<Figure size 432x288 with 1 Axes>"
      ]
     },
     "metadata": {
      "needs_background": "light"
     },
     "output_type": "display_data"
    },
    {
     "data": {
      "image/png": "[encoded data removed]",
      "text/plain": [
       "<Figure size 432x288 with 1 Axes>"
      ]
     },
     "metadata": {
      "needs_background": "light"
     },
     "output_type": "display_data"
    }
   ],
   "source": [
    "import matplotlib.pyplot as plt\n",
    "%matplotlib inline\n"
   ]
  },
  {
   "cell_type": "code",
   "execution_count": 16,
   "id": "e59d5ad6",
   "metadata": {},
   "outputs": [
    {
     "name": "stdout",
     "output_type": "stream",
     "text": [
      "[[0.25803623 0.16914745 0.10570363]\n",
      " [0.17787512 0.15906739 0.15987676]\n",
      " [0.08087417 0.15171991 0.23208891]]\n"
     ]
    }
   ],
   "source": [
    "print(cam_result[0, 0:3, 0:3])"
   ]
  },
  {
   "cell_type": "code",
   "execution_count": 28,
   "id": "5ddab00a",
   "metadata": {},
   "outputs": [
    {
     "name": "stdout",
     "output_type": "stream",
     "text": [
      "tensor(1.8217, device='cuda:0', grad_fn=<MaxBackward1>)\n"
     ]
    },
    {
     "data": {
      "text/plain": [
       "<matplotlib.image.AxesImage at 0x7f0fe0652950>"
      ]
     },
     "execution_count": 28,
     "metadata": {},
     "output_type": "execute_result"
    },
    {
     "data": {
      "image/png": "[encoded data removed]",
      "text/plain": [
       "<Figure size 432x288 with 1 Axes>"
      ]
     },
     "metadata": {
      "needs_background": "light"
     },
     "output_type": "display_data"
    },
    {
     "data": {
      "image/png": "[encoded data removed]",
      "text/plain": [
       "<Figure size 432x288 with 1 Axes>"
      ]
     },
     "metadata": {
      "needs_background": "light"
     },
     "output_type": "display_data"
    },
    {
     "data": {
      "image/png": "[encoded data removed]",
      "text/plain": [
       "<Figure size 432x288 with 1 Axes>"
      ]
     },
     "metadata": {
      "needs_background": "light"
     },
     "output_type": "display_data"
    }
   ],
   "source": [
    "\n",
    "grad_target_layers = [model.ff[4]]\n",
    "cam = GradCAM(model=model, target_layers=grad_target_layers, use_cuda=True)\n",
    "\n",
    "num = 229\n",
    "file_name = eval_files[num]\n",
    "data = file_to_spec_vector_2d_array(file_name,\n",
    "                            n_mels=param[\"feature\"][\"n_mels\"],\n",
    "                            frames=param[\"feature\"][\"frames\"],\n",
    "                            n_fft=param[\"feature\"][\"n_fft\"],\n",
    "                            hop_length=param[\"feature\"][\"hop_length\"],\n",
    "                            power=param[\"feature\"][\"power\"])\n",
    "data = torch.Tensor(data).cuda()\n",
    "error = torch.mean(((data - model(data)) ** 2), dim=[1, 2])\n",
    "\n",
    "print(torch.max(error))\n",
    "max_idx = torch.argmax(error).cpu().item()\n",
    "\n",
    "targets = [ReconOutputTarget(data[max_idx, :, :])]\n",
    "cam_result = cam(input_tensor=data[max_idx:max_idx + 1, :, :], targets=targets)\n",
    "\n",
    "\n",
    "\n",
    "plt.imshow(data[max_idx:max_idx + 1, :, :].detach().cpu().permute(2,1,0).numpy())\n",
    "\n",
    "plt.figure()\n",
    "\n",
    "plt.imshow(numpy.transpose(1 - cam_result, (2,1,0)))\n",
    "\n",
    "plt.figure()\n",
    "\n",
    "plt.imshow(model(data)[max_idx:max_idx + 1, :, :].detach().cpu().permute(2,1,0).numpy())"
   ]
  },
  {
   "cell_type": "code",
   "execution_count": 7,
   "id": "f665ec3b",
   "metadata": {},
   "outputs": [
    {
     "name": "stderr",
     "output_type": "stream",
     "text": [
      "2022-07-05 05:24:04,978 - INFO - anomaly score abnormal : [0. 0. 0. 0. 0. 0. 0. 0. 0. 0. 0. 0. 0. 0. 0. 0. 0. 0. 0. 0. 0. 0. 0. 0.\n",
      " 0. 0. 0. 0. 0. 0. 0. 0. 0. 0. 0. 0. 0. 0. 0. 0. 0. 0. 0. 0. 0. 0. 0. 0.\n",
      " 0. 0. 0. 0. 0. 0. 0. 0. 0. 0. 0. 0. 0. 0. 0. 0. 0. 0. 0. 0. 0. 0. 0. 0.\n",
      " 0. 0. 0. 0. 0. 0. 0. 0. 0. 0. 0. 0. 0. 0. 0. 0. 0. 0. 0. 0. 0. 0. 0. 0.\n",
      " 0. 0. 0. 0. 0. 0. 0. 0. 0. 0. 0. 0. 0. 0. 0. 0. 0. 0. 0. 0. 0. 0. 0.]\n",
      "2022-07-05 05:24:04,979 - INFO - anomaly score normal : [1.36949468 0.         0.         0.         0.         0.\n",
      " 0.         0.         0.         0.         0.         0.\n",
      " 0.         0.         0.         0.         0.         0.\n",
      " 0.         0.         0.         0.         0.         0.\n",
      " 0.         0.         0.         0.         0.         0.\n",
      " 0.         0.         0.         0.         0.         0.\n",
      " 0.         0.         0.         0.         0.         0.\n",
      " 0.         0.         0.         0.         0.         0.\n",
      " 0.         0.         0.         0.         0.         0.\n",
      " 0.         0.         0.         0.         0.         0.\n",
      " 0.         0.         0.         0.         0.         0.\n",
      " 0.         0.         0.         0.         0.         0.\n",
      " 0.         0.         0.         0.         0.         0.\n",
      " 0.         0.         0.         0.         0.         0.\n",
      " 0.         0.         0.         0.         0.         0.\n",
      " 0.         0.         0.         0.         0.         0.\n",
      " 0.         0.         0.         0.         0.         0.\n",
      " 0.         0.         0.         0.         0.         0.\n",
      " 0.         0.         0.         0.         0.         0.\n",
      " 0.         0.         0.         0.         0.        ]\n",
      "2022-07-05 05:24:04,979 - INFO - AUC : 0.4957983193277311\n"
     ]
    },
    {
     "name": "stdout",
     "output_type": "stream",
     "text": [
      "===========================\n"
     ]
    }
   ],
   "source": [
    "\n",
    "score = metrics.roc_auc_score(y_true, y_pred)\n",
    "logger.info(\"anomaly score abnormal : {}\".format(str(numpy.array(y_pred)[y_true.astype(bool)])))\n",
    "logger.info(\"anomaly score normal : {}\".format(str(numpy.array(y_pred)[numpy.logical_not(y_true)])))\n",
    "logger.info(\"AUC : {}\".format(score))\n",
    "evaluation_result[\"AUC\"] = float(score)\n",
    "results[evaluation_result_key] = evaluation_result\n",
    "print(\"===========================\")\n"
   ]
  }
 ],
 "metadata": {
  "kernelspec": {
   "display_name": "Python 3 (ipykernel)",
   "language": "python",
   "name": "python3"
  },
  "language_info": {
   "codemirror_mode": {
    "name": "ipython",
    "version": 3
   },
   "file_extension": ".py",
   "mimetype": "text/x-python",
   "name": "python",
   "nbconvert_exporter": "python",
   "pygments_lexer": "ipython3",
   "version": "3.7.13"
  }
 },
 "nbformat": 4,
 "nbformat_minor": 5
}
